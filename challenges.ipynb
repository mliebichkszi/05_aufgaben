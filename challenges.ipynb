{
 "cells": [
  {
   "cell_type": "markdown",
   "id": "fd75bb04-058d-40b3-a6ad-438f26080585",
   "metadata": {},
   "source": [
    "# Python Challenges"
   ]
  },
  {
   "cell_type": "markdown",
   "id": "7721b3ae-8a49-428b-a1d2-28791615398e",
   "metadata": {},
   "source": [
    "## Challenge 1\n",
    "Schreiben Sie eine Funktion namens `mitten`, die eine Zeichenkette als Parameter annimmt. Ihre Funktion sollte den mittleren Buchstaben extrahieren und zurückgeben. Wenn es keinen mittleren Buchstaben gibt, sollte Ihre Funktion die leere Zeichenkette zurückgeben.\n",
    "Zum Beispiel sollte mid(„abc“) „b“ zurückgeben und mid(„aaaa“) sollte „“ zurückgeben.\n"
   ]
  },
  {
   "cell_type": "markdown",
   "id": "983530d0-d832-4588-9114-a70d6e39794a",
   "metadata": {},
   "source": [
    "## Challenge 2\n",
    "Das Ziel dieser Aufgabe ist es, anhand eines Wörterbuchs mit dem Online-Status von Personen die Anzahl der Personen zu zählen, die online sind.\n",
    "Betrachten wir zum Beispiel das folgende Wörterbuch:\n",
    "\n",
    "status = { „Alice“: „online“, ‚Bob‘: „offline“, ‚Eve‘: „online“, } In diesem Fall ist die Anzahl der Personen, die online sind, 2.\n",
    "\n",
    "Schreiben Sie eine Funktion namens `online_anzahl`, die einen Parameter benötigt. Der Parameter ist ein Wörterbuch, das Zeichenketten von Namen auf die Zeichenkette „online“ oder „offline“ abbildet, wie oben gesehen.\n",
    "\n",
    "Ihre Funktion sollte die Anzahl der Personen zurückgeben, die online sind."
   ]
  },
  {
   "cell_type": "markdown",
   "id": "49876b38-c22d-414f-8303-209538ab72d8",
   "metadata": {},
   "source": [
    "## Challenge 3\n",
    "Definieren Sie eine Funktion, `random_zahl`, die keine Parameter benötigt. Die Funktion muss eine zufällige ganze Zahl zwischen 1 und 100, jeweils einschließlich, erzeugen und zurückgeben.\n",
    "Ein mehrfacher Aufruf der Funktion sollte (normalerweise) verschiedene Zahlen zurückgeben.\n",
    "\n",
    "Ein mehrmaliger Aufruf von random_number() könnte zum Beispiel zuerst 42, dann 63 und dann 1 zurückgeben.\n",
    "\n",
    "Sie dürfen das Modul random importieren (`import random`)"
   ]
  },
  {
   "cell_type": "markdown",
   "id": "361733eb-c25b-4e22-a508-f1cb4edb012a",
   "metadata": {},
   "source": [
    "## Challenge 4\n",
    "Schreiben Sie eine Funktion namens `nur_ganz`, die zwei Parameter benötigt. Ihre Funktion sollte True zurückgeben, wenn beide Parameter Ganzzahlen sind, und andernfalls False.\n",
    "Zum Beispiel sollte der Aufruf von nur_ganz(1, 2) True zurückgeben, während der Aufruf von nur_ganz(„a“, 1) False zurückgeben sollte."
   ]
  },
  {
   "cell_type": "markdown",
   "id": "22ae9cff-98a2-4fcb-8b09-479985fc7072",
   "metadata": {},
   "source": [
    "## Challenge 5\n",
    "Das Ziel dieser Aufgabe ist es, eine Zeichenkette zu analysieren, um zu prüfen, ob sie zwei gleiche Buchstaben in einer Reihe enthält. Die Zeichenkette „hallo“ enthält beispielsweise zweimal hintereinander ein l, während die Zeichenkette „nono“ keine zwei identischen Buchstaben in einer Reihe enthält.\n",
    "Definieren Sie eine Funktion namens `buchstabe_doppelt`, die einen einzigen Parameter benötigt. Der Parameter ist eine Zeichenkette. Ihre Funktion muss True zurückgeben, wenn die Zeichenkette zwei identische Buchstaben in einer Reihe enthält, und andernfalls False."
   ]
  },
  {
   "cell_type": "markdown",
   "id": "a6466e2b-9f6f-45ac-89a9-691198be1a91",
   "metadata": {},
   "source": [
    "## Challenge 6\n",
    "Definieren Sie eine Funktion `umwandeln`, die eine Liste von Zahlen als einzigen Parameter annimmt und eine Liste aller in eine Zeichenkette umgewandelten Zahlen zurückgibt.\n",
    "Der Aufruf umwandeln([1,2,3]) sollte zum Beispiel [\"1“, \"2\", \"3\"] zurückgeben."
   ]
  },
  {
   "cell_type": "markdown",
   "id": "15afee1b-2c4f-4528-a1b5-1970490c0364",
   "metadata": {},
   "source": [
    "## Challenge 7\n",
    "Definieren Sie eine Funktion namens `div_3`, die `True` zurückgibt, wenn ihr einzelner ganzzahliger Parameter durch 3 teilbar ist, und andernfalls False.\n",
    "Zum Beispiel ist div_3(6) `True`, weil 6/3 keinen Rest übrig lässt. Jedoch ist div_3(5) False, weil 5/3 2 als Rest übrig lässt."
   ]
  }
 ],
 "metadata": {
  "kernelspec": {
   "display_name": "Python 3 (ipykernel)",
   "language": "python",
   "name": "python3"
  },
  "language_info": {
   "codemirror_mode": {
    "name": "ipython",
    "version": 3
   },
   "file_extension": ".py",
   "mimetype": "text/x-python",
   "name": "python",
   "nbconvert_exporter": "python",
   "pygments_lexer": "ipython3",
   "version": "3.9.7"
  }
 },
 "nbformat": 4,
 "nbformat_minor": 5
}
